{
  "nbformat": 4,
  "nbformat_minor": 0,
  "metadata": {
    "colab": {
      "provenance": [],
      "authorship_tag": "ABX9TyM7thkxJwMkTxW7VzqATnEF",
      "include_colab_link": true
    },
    "kernelspec": {
      "name": "python3",
      "display_name": "Python 3"
    },
    "language_info": {
      "name": "python"
    }
  },
  "cells": [
    {
      "cell_type": "markdown",
      "metadata": {
        "id": "view-in-github",
        "colab_type": "text"
      },
      "source": [
        "<a href=\"https://colab.research.google.com/github/vidhya2324/Website_code/blob/main/Chatbot_perfume.ipynb\" target=\"_parent\"><img src=\"https://colab.research.google.com/assets/colab-badge.svg\" alt=\"Open In Colab\"/></a>"
      ]
    },
    {
      "cell_type": "code",
      "source": [
        "import os\n",
        "import json\n",
        "\n",
        "from zipfile import ZipFile\n",
        "import pandas as pd"
      ],
      "metadata": {
        "id": "HEu6C2i-XFRc"
      },
      "execution_count": 3,
      "outputs": []
    },
    {
      "cell_type": "code",
      "source": [
        "import json\n",
        "kaggle_dictionary=json.load(open(\"kaggle.json\"))"
      ],
      "metadata": {
        "id": "5Ghr84BnWjDs"
      },
      "execution_count": 1,
      "outputs": []
    },
    {
      "cell_type": "code",
      "source": [
        "#setup AIP credential\n",
        "os.environ[\"KAGGLE_USERNAME\"] = kaggle_dictionary[\"username\"]\n",
        "os.environ[\"KAGGLE_KEY\"] = kaggle_dictionary[\"key\"]"
      ],
      "metadata": {
        "id": "WvfU678xWi1d"
      },
      "execution_count": 4,
      "outputs": []
    },
    {
      "cell_type": "code",
      "source": [
        "!kaggle datasets download -d kanchana1990/perfume-e-commerce-dataset-2024"
      ],
      "metadata": {
        "colab": {
          "base_uri": "https://localhost:8080/"
        },
        "id": "VGVBMWHxXOe0",
        "outputId": "bcc1767c-89df-49bb-a214-b3b133b60674"
      },
      "execution_count": 21,
      "outputs": [
        {
          "output_type": "stream",
          "name": "stdout",
          "text": [
            "Dataset URL: https://www.kaggle.com/datasets/kanchana1990/perfume-e-commerce-dataset-2024\n",
            "License(s): ODC Attribution License (ODC-By)\n",
            "Downloading perfume-e-commerce-dataset-2024.zip to /content\n",
            "  0% 0.00/106k [00:00<?, ?B/s]\n",
            "100% 106k/106k [00:00<00:00, 53.6MB/s]\n"
          ]
        }
      ]
    },
    {
      "cell_type": "code",
      "source": [
        "#unzip the file\n",
        "!unzip \\*.zip && rm *.zip"
      ],
      "metadata": {
        "colab": {
          "base_uri": "https://localhost:8080/"
        },
        "id": "uVzt-GpzXtSk",
        "outputId": "937bd2a4-2311-47b2-966c-127b13f512d3"
      },
      "execution_count": 22,
      "outputs": [
        {
          "output_type": "stream",
          "name": "stdout",
          "text": [
            "Archive:  perfume-e-commerce-dataset-2024.zip\n",
            "  inflating: ebay_mens_perfume.csv   \n",
            "  inflating: ebay_womens_perfume.csv  \n"
          ]
        }
      ]
    },
    {
      "cell_type": "code",
      "source": [
        "!ls"
      ],
      "metadata": {
        "colab": {
          "base_uri": "https://localhost:8080/"
        },
        "id": "Pbb4G_wLXuzc",
        "outputId": "640b1da2-0cf0-4f7f-e9f1-c9f800e62876"
      },
      "execution_count": 9,
      "outputs": [
        {
          "output_type": "stream",
          "name": "stdout",
          "text": [
            "final_perfume_data.csv\tkaggle.json  sample_data\n"
          ]
        }
      ]
    },
    {
      "cell_type": "code",
      "source": [
        "import pandas as pd\n",
        "import numpy as np\n",
        "from sklearn.feature_extraction.text import TfidfVectorizer\n",
        "from sklearn.metrics.pairwise import cosine_similarity\n",
        "from sklearn.preprocessing import MinMaxScaler\n",
        "import matplotlib.pyplot as plt\n",
        "import seaborn as sns\n",
        "import re\n",
        "from collections import Counter\n",
        "import warnings\n",
        "warnings.filterwarnings('ignore')"
      ],
      "metadata": {
        "id": "3uBk8m0GZHIr"
      },
      "execution_count": 15,
      "outputs": []
    },
    {
      "cell_type": "code",
      "source": [
        "class PerfumeAnalyzer:\n",
        "    def __init__(self, data_path):\n",
        "        \"\"\"Initialize with data loading and preprocessing\"\"\"\n",
        "        self.df = pd.read_csv('/content/ebay_mens_perfume.csv')\n",
        "        self.preprocess_data()\n",
        "\n",
        "    def preprocess_data(self):\n",
        "        \"\"\"Clean and prepare the dataset\"\"\"\n",
        "        # Fill NaN values\n",
        "        self.df['price'] = pd.to_numeric(self.df['price'].str.replace('$', ''), errors='coerce')\n",
        "        self.df['rating'] = pd.to_numeric(self.df['rating'], errors='coerce')\n",
        "        self.df['votes'] = pd.to_numeric(self.df['votes'].str.replace(',', ''), errors='coerce')\n",
        "\n",
        "        # Create combined features for recommendation\n",
        "        self.df['combined_features'] = self.df['name'].fillna('') + ' ' + \\\n",
        "                                     self.df['brand'].fillna('') + ' ' + \\\n",
        "                                     self.df['main_accords'].fillna('') + ' ' + \\\n",
        "                                     self.df['notes'].fillna('')\n",
        "\n",
        "    def get_top_brands(self, n=10):\n",
        "        \"\"\"Get top brands by number of perfumes\"\"\"\n",
        "        return self.df['brand'].value_counts().head(n)\n",
        "\n",
        "    def get_price_statistics(self):\n",
        "        \"\"\"Get price statistics\"\"\"\n",
        "        return self.df['price'].describe()\n",
        "\n",
        "    def plot_price_distribution(self):\n",
        "        \"\"\"Plot price distribution\"\"\"\n",
        "        plt.figure(figsize=(10, 6))\n",
        "        sns.histplot(data=self.df, x='price', bins=50)\n",
        "        plt.title('Price Distribution of Perfumes')\n",
        "        plt.xlabel('Price ($)')\n",
        "        plt.ylabel('Count')\n",
        "        plt.show()\n",
        "\n",
        "    def plot_top_brands(self, n=10):\n",
        "        \"\"\"Plot top brands\"\"\"\n",
        "        plt.figure(figsize=(12, 6))\n",
        "        self.get_top_brands(n).plot(kind='bar')\n",
        "        plt.title(f'Top {n} Perfume Brands')\n",
        "        plt.xlabel('Brand')\n",
        "        plt.ylabel('Number of Perfumes')\n",
        "        plt.xticks(rotation=45)\n",
        "        plt.tight_layout()\n",
        "        plt.show()\n",
        "\n",
        "    def analyze_common_notes(self, n=10):\n",
        "        \"\"\"Analyze most common notes in perfumes\"\"\"\n",
        "        all_notes = ' '.join(self.df['notes'].dropna()).lower()\n",
        "        words = re.findall(r'\\w+', all_notes)\n",
        "        return Counter(words).most_common(n)"
      ],
      "metadata": {
        "id": "jWDTD15YaIYc"
      },
      "execution_count": 23,
      "outputs": []
    },
    {
      "cell_type": "code",
      "source": [
        "class PerfumeRecommender:\n",
        "    def __init__(self, df):\n",
        "        \"\"\"Initialize the recommender system\"\"\"\n",
        "        self.df = df\n",
        "        self.create_vectors()\n",
        "\n",
        "    def create_vectors(self):\n",
        "        \"\"\"Create TF-IDF vectors for similarity matching\"\"\"\n",
        "        self.tfidf = TfidfVectorizer(stop_words='english')\n",
        "        self.tfidf_matrix = self.tfidf.fit_transform(self.df['combined_features'])\n",
        "\n",
        "    def get_recommendations(self, query, n=5):\n",
        "        \"\"\"Get perfume recommendations based on query\"\"\"\n",
        "        query_vec = self.tfidf.transform([query.lower()])\n",
        "        similarity = cosine_similarity(query_vec, self.tfidf_matrix)\n",
        "        similar_indices = similarity[0].argsort()[-n:][::-1]\n",
        "        return self.df.iloc[similar_indices]\n",
        "\n",
        "    def get_similar_perfumes(self, perfume_name, n=5):\n",
        "        \"\"\"Get similar perfumes to a given perfume\"\"\"\n",
        "        perfume_idx = self.df[self.df['name'].str.lower() == perfume_name.lower()].index\n",
        "        if len(perfume_idx) == 0:\n",
        "            return None\n",
        "\n",
        "        perfume_vec = self.tfidf_matrix[perfume_idx[0]]\n",
        "        similarity = cosine_similarity(perfume_vec, self.tfidf_matrix)\n",
        "        similar_indices = similarity[0].argsort()[-n-1:][::-1][1:]  # Exclude the perfume itself\n",
        "        return self.df.iloc[similar_indices]"
      ],
      "metadata": {
        "id": "4MG3b8mYaYOb"
      },
      "execution_count": 17,
      "outputs": []
    },
    {
      "cell_type": "code",
      "source": [
        "class PerfumeChatbot:\n",
        "    def __init__(self, analyzer, recommender):\n",
        "        \"\"\"Initialize chatbot with analyzer and recommender\"\"\"\n",
        "        self.analyzer = analyzer\n",
        "        self.recommender = recommender\n",
        "\n",
        "    def process_query(self, user_input):\n",
        "        \"\"\"Process user input and generate response\"\"\"\n",
        "        user_input = user_input.lower()\n",
        "\n",
        "        if \"analyze\" in user_input:\n",
        "            if \"brands\" in user_input:\n",
        "                top_brands = self.analyzer.get_top_brands()\n",
        "                response = \"Top 10 perfume brands:\\n\"\n",
        "                for brand, count in top_brands.items():\n",
        "                    response += f\"{brand}: {count} perfumes\\n\"\n",
        "\n",
        "            elif \"prices\" in user_input:\n",
        "                stats = self.analyzer.get_price_statistics()\n",
        "                response = \"Price statistics:\\n\"\n",
        "                response += f\"Average price: ${stats['mean']:.2f}\\n\"\n",
        "                response += f\"Minimum price: ${stats['min']:.2f}\\n\"\n",
        "                response += f\"Maximum price: ${stats['max']:.2f}\\n\"\n",
        "\n",
        "            elif \"notes\" in user_input:\n",
        "                common_notes = self.analyzer.analyze_common_notes()\n",
        "                response = \"Most common perfume notes:\\n\"\n",
        "                for note, count in common_notes:\n",
        "                    response += f\"{note}: {count} occurrences\\n\"\n",
        "\n",
        "            else:\n",
        "                response = \"I can analyze brands, prices, or notes. Please specify what you'd like to analyze.\"\n",
        "\n",
        "        elif \"recommend\" in user_input or \"suggest\" in user_input:\n",
        "            recommendations = self.recommender.get_recommendations(user_input)\n",
        "            response = \"Here are some perfumes you might like:\\n\"\n",
        "            for _, perfume in recommendations.iterrows():\n",
        "                response += f\"- {perfume['name']} by {perfume['brand']}\"\n",
        "                if pd.notna(perfume['price']):\n",
        "                    response += f\" (${perfume['price']:.2f})\"\n",
        "                response += \"\\n\"\n",
        "\n",
        "        elif \"similar to\" in user_input:\n",
        "            perfume_name = user_input.split(\"similar to\")[-1].strip()\n",
        "            similar_perfumes = self.recommender.get_similar_perfumes(perfume_name)\n",
        "            if similar_perfumes is not None:\n",
        "                response = f\"Perfumes similar to {perfume_name}:\\n\"\n",
        "                for _, perfume in similar_perfumes.iterrows():\n",
        "                    response += f\"- {perfume['name']} by {perfume['brand']}\"\n",
        "                    if pd.notna(perfume['price']):\n",
        "                        response += f\" (${perfume['price']:.2f})\"\n",
        "                    response += \"\\n\"\n",
        "            else:\n",
        "                response = f\"I couldn't find the perfume '{perfume_name}' in my database.\"\n",
        "\n",
        "        elif \"help\" in user_input:\n",
        "            response = \"\"\"I can help you with:\n",
        "1. Analysis:\n",
        "   - \"Analyze brands\" - See top perfume brands\n",
        "   - \"Analyze prices\" - Get price statistics\n",
        "   - \"Analyze notes\" - See most common perfume notes\n",
        "2. Recommendations:\n",
        "   - \"Recommend floral perfumes\" - Get perfume suggestions\n",
        "   - \"Similar to [perfume name]\" - Find similar perfumes\n",
        "3. Visualizations:\n",
        "   - \"Show price distribution\" - See price distribution chart\n",
        "   - \"Show top brands\" - See top brands chart\n",
        "Type 'exit' to end the conversation.\"\"\"\n",
        "\n",
        "        elif \"show\" in user_input:\n",
        "            if \"price distribution\" in user_input:\n",
        "                self.analyzer.plot_price_distribution()\n",
        "                response = \"Showing price distribution plot...\"\n",
        "            elif \"top brands\" in user_input:\n",
        "                self.analyzer.plot_top_brands()\n",
        "                response = \"Showing top brands plot...\"\n",
        "            else:\n",
        "                response = \"I can show price distribution or top brands. Please specify what you'd like to see.\"\n",
        "\n",
        "        else:\n",
        "            response = \"I didn't understand that. Type 'help' to see what I can do!\"\n",
        "\n",
        "        return response"
      ],
      "metadata": {
        "id": "EuxB45D3aZrU"
      },
      "execution_count": 18,
      "outputs": []
    },
    {
      "cell_type": "code",
      "source": [
        "import pandas as pd\n",
        "\n",
        "class PerfumeAnalyzer:\n",
        "    def __init__(self, data_path):\n",
        "        \"\"\"Initialize with data loading and preprocessing\"\"\"\n",
        "        self.df = pd.read_csv('/content/ebay_mens_perfume.csv')\n",
        "        self.preprocess_data()\n",
        "\n",
        "    def preprocess_data(self):\n",
        "        \"\"\"Clean and prepare the dataset\"\"\"\n",
        "        # Fill NaN values\n",
        "        # Convert the 'price' column to string type before using .str methods\n",
        "        self.df['price'] = self.df['price'].astype(str).str.replace('[\\$,]', '', regex=True)\n",
        "        self.df['price'] = pd.to_numeric(self.df['price'], errors='coerce')\n",
        "        self.df['rating'] = pd.to_numeric(self.df['rating'], errors='coerce')\n",
        "        self.df['votes'] = pd.to_numeric(self.df['votes'].str.replace(',', ''), errors='coerce')"
      ],
      "metadata": {
        "id": "HowZhkyacwDL"
      },
      "execution_count": 25,
      "outputs": []
    },
    {
      "cell_type": "code",
      "source": [
        "def main():\n",
        "    # Initialize the system\n",
        "    print(\"Loading perfume dataset and initializing systems...\")\n",
        "    analyzer = PerfumeAnalyzer('/content/ebay_mens_perfume.csv')  # Replace with your dataset path\n",
        "    recommender = PerfumeRecommender(analyzer.df)\n",
        "    chatbot = PerfumeChatbot(analyzer, recommender)\n",
        "\n",
        "    print(\"\\n🌸 Welcome to the Perfume Recommendation System! 🌸\")\n",
        "    print(\"This system can help you analyze perfume data, get recommendations, and visualize trends.\")\n",
        "    print(\"Type 'help' to see available commands or 'exit' to quit.\")\n",
        "\n",
        "    while True:\n",
        "        user_input = input(\"\\nYou: \").strip()\n",
        "\n",
        "        if user_input.lower() == 'exit':\n",
        "            print(\"Thank you for using the Perfume Recommendation System. Goodbye!\")\n",
        "            break\n",
        "\n",
        "        response = chatbot.process_query(user_input)\n",
        "        print(\"\\nBot:\", response)\n",
        "\n",
        "if __name__ == \"__main__\":\n",
        "    main()"
      ],
      "metadata": {
        "id": "jQF63IZYaguk",
        "outputId": "b9d091b0-05f9-4f14-bdf6-caaf41fe24a6",
        "colab": {
          "base_uri": "https://localhost:8080/",
          "height": 564
        }
      },
      "execution_count": 26,
      "outputs": [
        {
          "output_type": "stream",
          "name": "stdout",
          "text": [
            "Loading perfume dataset and initializing systems...\n"
          ]
        },
        {
          "output_type": "error",
          "ename": "KeyError",
          "evalue": "'rating'",
          "traceback": [
            "\u001b[0;31m---------------------------------------------------------------------------\u001b[0m",
            "\u001b[0;31mKeyError\u001b[0m                                  Traceback (most recent call last)",
            "\u001b[0;32m/usr/local/lib/python3.10/dist-packages/pandas/core/indexes/base.py\u001b[0m in \u001b[0;36mget_loc\u001b[0;34m(self, key)\u001b[0m\n\u001b[1;32m   3804\u001b[0m         \u001b[0;32mtry\u001b[0m\u001b[0;34m:\u001b[0m\u001b[0;34m\u001b[0m\u001b[0;34m\u001b[0m\u001b[0m\n\u001b[0;32m-> 3805\u001b[0;31m             \u001b[0;32mreturn\u001b[0m \u001b[0mself\u001b[0m\u001b[0;34m.\u001b[0m\u001b[0m_engine\u001b[0m\u001b[0;34m.\u001b[0m\u001b[0mget_loc\u001b[0m\u001b[0;34m(\u001b[0m\u001b[0mcasted_key\u001b[0m\u001b[0;34m)\u001b[0m\u001b[0;34m\u001b[0m\u001b[0;34m\u001b[0m\u001b[0m\n\u001b[0m\u001b[1;32m   3806\u001b[0m         \u001b[0;32mexcept\u001b[0m \u001b[0mKeyError\u001b[0m \u001b[0;32mas\u001b[0m \u001b[0merr\u001b[0m\u001b[0;34m:\u001b[0m\u001b[0;34m\u001b[0m\u001b[0;34m\u001b[0m\u001b[0m\n",
            "\u001b[0;32mindex.pyx\u001b[0m in \u001b[0;36mpandas._libs.index.IndexEngine.get_loc\u001b[0;34m()\u001b[0m\n",
            "\u001b[0;32mindex.pyx\u001b[0m in \u001b[0;36mpandas._libs.index.IndexEngine.get_loc\u001b[0;34m()\u001b[0m\n",
            "\u001b[0;32mpandas/_libs/hashtable_class_helper.pxi\u001b[0m in \u001b[0;36mpandas._libs.hashtable.PyObjectHashTable.get_item\u001b[0;34m()\u001b[0m\n",
            "\u001b[0;32mpandas/_libs/hashtable_class_helper.pxi\u001b[0m in \u001b[0;36mpandas._libs.hashtable.PyObjectHashTable.get_item\u001b[0;34m()\u001b[0m\n",
            "\u001b[0;31mKeyError\u001b[0m: 'rating'",
            "\nThe above exception was the direct cause of the following exception:\n",
            "\u001b[0;31mKeyError\u001b[0m                                  Traceback (most recent call last)",
            "\u001b[0;32m<ipython-input-26-1ba5d1d7f9e0>\u001b[0m in \u001b[0;36m<cell line: 22>\u001b[0;34m()\u001b[0m\n\u001b[1;32m     21\u001b[0m \u001b[0;34m\u001b[0m\u001b[0m\n\u001b[1;32m     22\u001b[0m \u001b[0;32mif\u001b[0m \u001b[0m__name__\u001b[0m \u001b[0;34m==\u001b[0m \u001b[0;34m\"__main__\"\u001b[0m\u001b[0;34m:\u001b[0m\u001b[0;34m\u001b[0m\u001b[0;34m\u001b[0m\u001b[0m\n\u001b[0;32m---> 23\u001b[0;31m     \u001b[0mmain\u001b[0m\u001b[0;34m(\u001b[0m\u001b[0;34m)\u001b[0m\u001b[0;34m\u001b[0m\u001b[0;34m\u001b[0m\u001b[0m\n\u001b[0m",
            "\u001b[0;32m<ipython-input-26-1ba5d1d7f9e0>\u001b[0m in \u001b[0;36mmain\u001b[0;34m()\u001b[0m\n\u001b[1;32m      2\u001b[0m     \u001b[0;31m# Initialize the system\u001b[0m\u001b[0;34m\u001b[0m\u001b[0;34m\u001b[0m\u001b[0m\n\u001b[1;32m      3\u001b[0m     \u001b[0mprint\u001b[0m\u001b[0;34m(\u001b[0m\u001b[0;34m\"Loading perfume dataset and initializing systems...\"\u001b[0m\u001b[0;34m)\u001b[0m\u001b[0;34m\u001b[0m\u001b[0;34m\u001b[0m\u001b[0m\n\u001b[0;32m----> 4\u001b[0;31m     \u001b[0manalyzer\u001b[0m \u001b[0;34m=\u001b[0m \u001b[0mPerfumeAnalyzer\u001b[0m\u001b[0;34m(\u001b[0m\u001b[0;34m'/content/ebay_mens_perfume.csv'\u001b[0m\u001b[0;34m)\u001b[0m  \u001b[0;31m# Replace with your dataset path\u001b[0m\u001b[0;34m\u001b[0m\u001b[0;34m\u001b[0m\u001b[0m\n\u001b[0m\u001b[1;32m      5\u001b[0m     \u001b[0mrecommender\u001b[0m \u001b[0;34m=\u001b[0m \u001b[0mPerfumeRecommender\u001b[0m\u001b[0;34m(\u001b[0m\u001b[0manalyzer\u001b[0m\u001b[0;34m.\u001b[0m\u001b[0mdf\u001b[0m\u001b[0;34m)\u001b[0m\u001b[0;34m\u001b[0m\u001b[0;34m\u001b[0m\u001b[0m\n\u001b[1;32m      6\u001b[0m     \u001b[0mchatbot\u001b[0m \u001b[0;34m=\u001b[0m \u001b[0mPerfumeChatbot\u001b[0m\u001b[0;34m(\u001b[0m\u001b[0manalyzer\u001b[0m\u001b[0;34m,\u001b[0m \u001b[0mrecommender\u001b[0m\u001b[0;34m)\u001b[0m\u001b[0;34m\u001b[0m\u001b[0;34m\u001b[0m\u001b[0m\n",
            "\u001b[0;32m<ipython-input-25-ce2a80de6f36>\u001b[0m in \u001b[0;36m__init__\u001b[0;34m(self, data_path)\u001b[0m\n\u001b[1;32m      5\u001b[0m         \u001b[0;34m\"\"\"Initialize with data loading and preprocessing\"\"\"\u001b[0m\u001b[0;34m\u001b[0m\u001b[0;34m\u001b[0m\u001b[0m\n\u001b[1;32m      6\u001b[0m         \u001b[0mself\u001b[0m\u001b[0;34m.\u001b[0m\u001b[0mdf\u001b[0m \u001b[0;34m=\u001b[0m \u001b[0mpd\u001b[0m\u001b[0;34m.\u001b[0m\u001b[0mread_csv\u001b[0m\u001b[0;34m(\u001b[0m\u001b[0;34m'/content/ebay_mens_perfume.csv'\u001b[0m\u001b[0;34m)\u001b[0m\u001b[0;34m\u001b[0m\u001b[0;34m\u001b[0m\u001b[0m\n\u001b[0;32m----> 7\u001b[0;31m         \u001b[0mself\u001b[0m\u001b[0;34m.\u001b[0m\u001b[0mpreprocess_data\u001b[0m\u001b[0;34m(\u001b[0m\u001b[0;34m)\u001b[0m\u001b[0;34m\u001b[0m\u001b[0;34m\u001b[0m\u001b[0m\n\u001b[0m\u001b[1;32m      8\u001b[0m \u001b[0;34m\u001b[0m\u001b[0m\n\u001b[1;32m      9\u001b[0m     \u001b[0;32mdef\u001b[0m \u001b[0mpreprocess_data\u001b[0m\u001b[0;34m(\u001b[0m\u001b[0mself\u001b[0m\u001b[0;34m)\u001b[0m\u001b[0;34m:\u001b[0m\u001b[0;34m\u001b[0m\u001b[0;34m\u001b[0m\u001b[0m\n",
            "\u001b[0;32m<ipython-input-25-ce2a80de6f36>\u001b[0m in \u001b[0;36mpreprocess_data\u001b[0;34m(self)\u001b[0m\n\u001b[1;32m     13\u001b[0m         \u001b[0mself\u001b[0m\u001b[0;34m.\u001b[0m\u001b[0mdf\u001b[0m\u001b[0;34m[\u001b[0m\u001b[0;34m'price'\u001b[0m\u001b[0;34m]\u001b[0m \u001b[0;34m=\u001b[0m \u001b[0mself\u001b[0m\u001b[0;34m.\u001b[0m\u001b[0mdf\u001b[0m\u001b[0;34m[\u001b[0m\u001b[0;34m'price'\u001b[0m\u001b[0;34m]\u001b[0m\u001b[0;34m.\u001b[0m\u001b[0mastype\u001b[0m\u001b[0;34m(\u001b[0m\u001b[0mstr\u001b[0m\u001b[0;34m)\u001b[0m\u001b[0;34m.\u001b[0m\u001b[0mstr\u001b[0m\u001b[0;34m.\u001b[0m\u001b[0mreplace\u001b[0m\u001b[0;34m(\u001b[0m\u001b[0;34m'[\\$,]'\u001b[0m\u001b[0;34m,\u001b[0m \u001b[0;34m''\u001b[0m\u001b[0;34m,\u001b[0m \u001b[0mregex\u001b[0m\u001b[0;34m=\u001b[0m\u001b[0;32mTrue\u001b[0m\u001b[0;34m)\u001b[0m\u001b[0;34m\u001b[0m\u001b[0;34m\u001b[0m\u001b[0m\n\u001b[1;32m     14\u001b[0m         \u001b[0mself\u001b[0m\u001b[0;34m.\u001b[0m\u001b[0mdf\u001b[0m\u001b[0;34m[\u001b[0m\u001b[0;34m'price'\u001b[0m\u001b[0;34m]\u001b[0m \u001b[0;34m=\u001b[0m \u001b[0mpd\u001b[0m\u001b[0;34m.\u001b[0m\u001b[0mto_numeric\u001b[0m\u001b[0;34m(\u001b[0m\u001b[0mself\u001b[0m\u001b[0;34m.\u001b[0m\u001b[0mdf\u001b[0m\u001b[0;34m[\u001b[0m\u001b[0;34m'price'\u001b[0m\u001b[0;34m]\u001b[0m\u001b[0;34m,\u001b[0m \u001b[0merrors\u001b[0m\u001b[0;34m=\u001b[0m\u001b[0;34m'coerce'\u001b[0m\u001b[0;34m)\u001b[0m\u001b[0;34m\u001b[0m\u001b[0;34m\u001b[0m\u001b[0m\n\u001b[0;32m---> 15\u001b[0;31m         \u001b[0mself\u001b[0m\u001b[0;34m.\u001b[0m\u001b[0mdf\u001b[0m\u001b[0;34m[\u001b[0m\u001b[0;34m'rating'\u001b[0m\u001b[0;34m]\u001b[0m \u001b[0;34m=\u001b[0m \u001b[0mpd\u001b[0m\u001b[0;34m.\u001b[0m\u001b[0mto_numeric\u001b[0m\u001b[0;34m(\u001b[0m\u001b[0mself\u001b[0m\u001b[0;34m.\u001b[0m\u001b[0mdf\u001b[0m\u001b[0;34m[\u001b[0m\u001b[0;34m'rating'\u001b[0m\u001b[0;34m]\u001b[0m\u001b[0;34m,\u001b[0m \u001b[0merrors\u001b[0m\u001b[0;34m=\u001b[0m\u001b[0;34m'coerce'\u001b[0m\u001b[0;34m)\u001b[0m\u001b[0;34m\u001b[0m\u001b[0;34m\u001b[0m\u001b[0m\n\u001b[0m\u001b[1;32m     16\u001b[0m         \u001b[0mself\u001b[0m\u001b[0;34m.\u001b[0m\u001b[0mdf\u001b[0m\u001b[0;34m[\u001b[0m\u001b[0;34m'votes'\u001b[0m\u001b[0;34m]\u001b[0m \u001b[0;34m=\u001b[0m \u001b[0mpd\u001b[0m\u001b[0;34m.\u001b[0m\u001b[0mto_numeric\u001b[0m\u001b[0;34m(\u001b[0m\u001b[0mself\u001b[0m\u001b[0;34m.\u001b[0m\u001b[0mdf\u001b[0m\u001b[0;34m[\u001b[0m\u001b[0;34m'votes'\u001b[0m\u001b[0;34m]\u001b[0m\u001b[0;34m.\u001b[0m\u001b[0mstr\u001b[0m\u001b[0;34m.\u001b[0m\u001b[0mreplace\u001b[0m\u001b[0;34m(\u001b[0m\u001b[0;34m','\u001b[0m\u001b[0;34m,\u001b[0m \u001b[0;34m''\u001b[0m\u001b[0;34m)\u001b[0m\u001b[0;34m,\u001b[0m \u001b[0merrors\u001b[0m\u001b[0;34m=\u001b[0m\u001b[0;34m'coerce'\u001b[0m\u001b[0;34m)\u001b[0m\u001b[0;34m\u001b[0m\u001b[0;34m\u001b[0m\u001b[0m\n",
            "\u001b[0;32m/usr/local/lib/python3.10/dist-packages/pandas/core/frame.py\u001b[0m in \u001b[0;36m__getitem__\u001b[0;34m(self, key)\u001b[0m\n\u001b[1;32m   4100\u001b[0m             \u001b[0;32mif\u001b[0m \u001b[0mself\u001b[0m\u001b[0;34m.\u001b[0m\u001b[0mcolumns\u001b[0m\u001b[0;34m.\u001b[0m\u001b[0mnlevels\u001b[0m \u001b[0;34m>\u001b[0m \u001b[0;36m1\u001b[0m\u001b[0;34m:\u001b[0m\u001b[0;34m\u001b[0m\u001b[0;34m\u001b[0m\u001b[0m\n\u001b[1;32m   4101\u001b[0m                 \u001b[0;32mreturn\u001b[0m \u001b[0mself\u001b[0m\u001b[0;34m.\u001b[0m\u001b[0m_getitem_multilevel\u001b[0m\u001b[0;34m(\u001b[0m\u001b[0mkey\u001b[0m\u001b[0;34m)\u001b[0m\u001b[0;34m\u001b[0m\u001b[0;34m\u001b[0m\u001b[0m\n\u001b[0;32m-> 4102\u001b[0;31m             \u001b[0mindexer\u001b[0m \u001b[0;34m=\u001b[0m \u001b[0mself\u001b[0m\u001b[0;34m.\u001b[0m\u001b[0mcolumns\u001b[0m\u001b[0;34m.\u001b[0m\u001b[0mget_loc\u001b[0m\u001b[0;34m(\u001b[0m\u001b[0mkey\u001b[0m\u001b[0;34m)\u001b[0m\u001b[0;34m\u001b[0m\u001b[0;34m\u001b[0m\u001b[0m\n\u001b[0m\u001b[1;32m   4103\u001b[0m             \u001b[0;32mif\u001b[0m \u001b[0mis_integer\u001b[0m\u001b[0;34m(\u001b[0m\u001b[0mindexer\u001b[0m\u001b[0;34m)\u001b[0m\u001b[0;34m:\u001b[0m\u001b[0;34m\u001b[0m\u001b[0;34m\u001b[0m\u001b[0m\n\u001b[1;32m   4104\u001b[0m                 \u001b[0mindexer\u001b[0m \u001b[0;34m=\u001b[0m \u001b[0;34m[\u001b[0m\u001b[0mindexer\u001b[0m\u001b[0;34m]\u001b[0m\u001b[0;34m\u001b[0m\u001b[0;34m\u001b[0m\u001b[0m\n",
            "\u001b[0;32m/usr/local/lib/python3.10/dist-packages/pandas/core/indexes/base.py\u001b[0m in \u001b[0;36mget_loc\u001b[0;34m(self, key)\u001b[0m\n\u001b[1;32m   3810\u001b[0m             ):\n\u001b[1;32m   3811\u001b[0m                 \u001b[0;32mraise\u001b[0m \u001b[0mInvalidIndexError\u001b[0m\u001b[0;34m(\u001b[0m\u001b[0mkey\u001b[0m\u001b[0;34m)\u001b[0m\u001b[0;34m\u001b[0m\u001b[0;34m\u001b[0m\u001b[0m\n\u001b[0;32m-> 3812\u001b[0;31m             \u001b[0;32mraise\u001b[0m \u001b[0mKeyError\u001b[0m\u001b[0;34m(\u001b[0m\u001b[0mkey\u001b[0m\u001b[0;34m)\u001b[0m \u001b[0;32mfrom\u001b[0m \u001b[0merr\u001b[0m\u001b[0;34m\u001b[0m\u001b[0;34m\u001b[0m\u001b[0m\n\u001b[0m\u001b[1;32m   3813\u001b[0m         \u001b[0;32mexcept\u001b[0m \u001b[0mTypeError\u001b[0m\u001b[0;34m:\u001b[0m\u001b[0;34m\u001b[0m\u001b[0;34m\u001b[0m\u001b[0m\n\u001b[1;32m   3814\u001b[0m             \u001b[0;31m# If we have a listlike key, _check_indexing_error will raise\u001b[0m\u001b[0;34m\u001b[0m\u001b[0;34m\u001b[0m\u001b[0m\n",
            "\u001b[0;31mKeyError\u001b[0m: 'rating'"
          ]
        }
      ]
    },
    {
      "cell_type": "markdown",
      "source": [
        "**Its a simple perfume chatbot**"
      ],
      "metadata": {
        "id": "9f6wvYaaZDKD"
      }
    },
    {
      "cell_type": "code",
      "source": [
        "import nltk\n",
        "import random\n",
        "import re\n",
        "from nltk.corpus import wordnet\n",
        "\n",
        "# Download required NLTK data\n",
        "nltk.download('punkt')\n",
        "nltk.download('wordnet')\n",
        "\n",
        "# Define a basic perfume recommendation chatbot\n",
        "class PerfumeChatbot:\n",
        "    def __init__(self):\n",
        "        self.greetings = [\"hello\", \"hi\", \"hey\", \"greetings\", \"what's up\"]\n",
        "        self.goodbyes = [\"bye\", \"goodbye\", \"see you\", \"take care\"]\n",
        "        self.perfume_preferences = {\n",
        "            \"floral\": [\"Chanel No.5\", \"Dior J'adore\", \"Gucci Bloom\"],\n",
        "            \"woody\": [\"Tom Ford Oud Wood\", \"Dolce & Gabbana Velvet Wood\", \"Gucci Guilty Oud\"],\n",
        "            \"citrus\": [\"Jo Malone Lime Basil & Mandarin\", \"Versace Pour Homme\", \"Dolce & Gabbana Light Blue\"],\n",
        "            \"spicy\": [\"Yves Saint Laurent Opium\", \"Tom Ford Noir\", \"Gucci Intense Oud\"],\n",
        "            \"fresh\": [\"Davidoff Cool Water\", \"Issey Miyake L'eau D'issey\", \"Hermès Un Jardin Sur Le Nil\"]\n",
        "        }\n",
        "\n",
        "    def greet(self, text):\n",
        "        for word in text.split():\n",
        "            if word.lower() in self.greetings:\n",
        "                return random.choice([\"Hello! How can I help you with perfumes?\",\n",
        "                                      \"Hi there! Looking for a new scent?\",\n",
        "                                      \"Hello! I’m here to help you find the perfect fragrance.\"])\n",
        "        return None\n",
        "\n",
        "    def recommend_perfume(self, preference):\n",
        "        # Use regular expressions to detect perfume types\n",
        "        preference = preference.lower()\n",
        "        for category, perfumes in self.perfume_preferences.items():\n",
        "            if category in preference:\n",
        "                return f\"I recommend you try {random.choice(perfumes)}. It has a lovely {category} scent!\"\n",
        "        return \"I'm sorry, I didn't quite understand. Could you describe the type of scent you're looking for? (e.g., floral, woody, citrus)\"\n",
        "\n",
        "    def respond(self, text):\n",
        "        # Check if the user is greeting the bot\n",
        "        greeting = self.greet(text)\n",
        "        if greeting:\n",
        "            return greeting\n",
        "\n",
        "        # Check if the user is saying goodbye\n",
        "        for word in text.split():\n",
        "            if word.lower() in self.goodbyes:\n",
        "                return \"Goodbye! I hope you find the perfect fragrance!\"\n",
        "\n",
        "        # If not a greeting or goodbye, try to recommend a perfume\n",
        "        return self.recommend_perfume(text)\n",
        "\n",
        "# Function to chat with the bot\n",
        "def chat():\n",
        "    bot = PerfumeChatbot()\n",
        "    print(\"PerfumeBot: Hi! I’m here to help you find the perfect perfume. What type of scent are you interested in?\")\n",
        "\n",
        "    while True:\n",
        "        user_input = input(\"You: \")\n",
        "        if user_input.lower() in [\"exit\", \"quit\"]:\n",
        "            print(\"PerfumeBot: Thank you for chatting! Have a great day!\")\n",
        "            break\n",
        "\n",
        "        response = bot.respond(user_input)\n",
        "        print(\"PerfumeBot:\", response)\n",
        "\n",
        "# Run the chatbot\n",
        "chat()\n"
      ],
      "metadata": {
        "id": "RAqOQbhUYn7E",
        "outputId": "0dc5a242-5ee1-480a-d051-5fe8ce907b8f",
        "colab": {
          "base_uri": "https://localhost:8080/"
        }
      },
      "execution_count": 14,
      "outputs": [
        {
          "output_type": "stream",
          "name": "stderr",
          "text": [
            "[nltk_data] Downloading package punkt to /root/nltk_data...\n",
            "[nltk_data]   Unzipping tokenizers/punkt.zip.\n",
            "[nltk_data] Downloading package wordnet to /root/nltk_data...\n"
          ]
        },
        {
          "output_type": "stream",
          "name": "stdout",
          "text": [
            "PerfumeBot: Hi! I’m here to help you find the perfect perfume. What type of scent are you interested in?\n",
            "You: hi\n",
            "PerfumeBot: Hello! How can I help you with perfumes?\n",
            "You: i need a good perfume\n",
            "PerfumeBot: I'm sorry, I didn't quite understand. Could you describe the type of scent you're looking for? (e.g., floral, woody, citrus)\n",
            "You: tell about the inbult brand of perfume\n",
            "PerfumeBot: I'm sorry, I didn't quite understand. Could you describe the type of scent you're looking for? (e.g., floral, woody, citrus)\n",
            "You: Chanel No.5\n",
            "PerfumeBot: I'm sorry, I didn't quite understand. Could you describe the type of scent you're looking for? (e.g., floral, woody, citrus)\n",
            "You: exist\n",
            "PerfumeBot: I'm sorry, I didn't quite understand. Could you describe the type of scent you're looking for? (e.g., floral, woody, citrus)\n",
            "You: exit\n",
            "PerfumeBot: Thank you for chatting! Have a great day!\n"
          ]
        }
      ]
    }
  ]
}